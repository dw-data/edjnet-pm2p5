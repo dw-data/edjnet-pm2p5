{
 "cells": [
  {
   "cell_type": "code",
   "execution_count": 6,
   "id": "469db9e3",
   "metadata": {},
   "outputs": [],
   "source": [
    "import xarray as xr\n",
    "import geopandas as gpd\n",
    "import pandas as pd\n",
    "from shapely.geometry import Point\n",
    "\n",
    "def sample_raster_values(raster, points):   \n",
    "    \"\"\"\n",
    "    Extracts time series from raster for given points.\n",
    "    Returns a concatenated DataFrame.\n",
    "    \"\"\"\n",
    "    \n",
    "    results = []\n",
    "\n",
    "    for index, row in points.iterrows():\n",
    "\n",
    "        x, y = row.longitude, row.latitude\n",
    "\n",
    "        # Extract the time series for the given point – if there's no time dimension\n",
    "        # this should also work, albeit not very efficiently\n",
    "        time_series_at_point = raster.sel(x=x, y=y, method='nearest')\n",
    "        \n",
    "        # Convert to DataFrame, add id data\n",
    "        df_at_point = time_series_at_point.to_dataframe().reset_index()\n",
    "        df_at_point['lau_id'] = row.lau_id\n",
    "        df_at_point['lau_name'] = row.lau_name\n",
    "        df_at_point['country'] = row.country\n",
    "        df_at_point['x'] = round(row.longitude, 4)\n",
    "        df_at_point['y'] = round(row.latitude, 4)\n",
    "\n",
    "        \n",
    "        # append to results\n",
    "        results.append(df_at_point)\n",
    "\n",
    "    # Concatenate\n",
    "    results = pd.concat(results)\n",
    "    return results\n",
    "\n",
    "\n",
    "def simplify_csv(df):\n",
    "    \"\"\"\n",
    "    Drops specified columns from DataFrame.\n",
    "    Returns updated DataFrame.\n",
    "    \"\"\"\n",
    "    df = df.drop(columns=[col for col in ['level', 'spatial_ref'] if col in df.columns])\n",
    "    return df\n",
    "\n",
    "\n",
    "def main():\n",
    "    \"\"\"\n",
    "    Main function to read raster data, process daily and yearly values, and save as CSV.\n",
    "    \"\"\"\n",
    "\n",
    "    # Reads raster data\n",
    "    reanalysis = xr.open_dataset(\"../output/5.europe-reanalysis-reprojected.netcdf\", decode_coords='all')\n",
    "    forecast = xr.open_dataset(\"../output/5.europe-forecast-reprojected.netcdf\", decode_coords='all')\n",
    "\n",
    "    # Reads points\n",
    "    points = pd.read_csv(\"../data/LAU_Centers/lau_2020_nuts_2021_pop_2018_p_2_adjusted_intersection.csv\")\n",
    "    points = points.groupby(\"country\").apply(lambda x: x.nlargest(50, 'population')) # n largest cities of each country\n",
    "    points = points.reset_index(drop=True)\n",
    "    \n",
    "    # 2022-2023 forecast daily values\n",
    "    result = sample_raster_values(forecast, points)\n",
    "    result = simplify_csv(result)\n",
    "    result.to_csv(\"../output/csvs/centroids-forecast-1D.csv\", index=False)\n",
    "    \n",
    "    # 2018-2022 daily values\n",
    "    result = sample_raster_values(reanalysis, points)\n",
    "    result = simplify_csv(result)\n",
    "    result.to_csv(\"../output/csvs/centroids-reanalysis-1D.csv\", index=False)\n",
    "\n",
    "    # 2018-2022 yearly averages\n",
    "    result = sample_raster_values(reanalysis.resample(time='Y').mean(), points)\n",
    "    result = simplify_csv(result)\n",
    "    result.to_csv(\"../output/csvs/centroids-reanalysis-Y.csv\", index=False)\n",
    "\n",
    "    \n",
    "if __name__ == \"__main__\":\n",
    "    main()"
   ]
  },
  {
   "cell_type": "code",
   "execution_count": 2,
   "id": "5c4f14c9",
   "metadata": {},
   "outputs": [],
   "source": []
  },
  {
   "cell_type": "code",
   "execution_count": 7,
   "id": "26af4906",
   "metadata": {},
   "outputs": [
    {
     "name": "stderr",
     "output_type": "stream",
     "text": [
      "/Users/menegat/opt/anaconda3/envs/climate-crisis-forecast/lib/python3.9/site-packages/IPython/core/interactiveshell.py:3444: DtypeWarning: Columns (4) have mixed types.Specify dtype option on import or set low_memory=False.\n",
      "  exec(code_obj, self.user_global_ns, self.user_ns)\n"
     ]
    }
   ],
   "source": [
    "df = pd.read_csv(\"../output/csvs/centroids-reanalysis-1D.csv\")"
   ]
  },
  {
   "cell_type": "code",
   "execution_count": 15,
   "id": "4dbf4a1d",
   "metadata": {},
   "outputs": [
    {
     "data": {
      "text/plain": [
       "205       5478\n",
       "87        3652\n",
       "110       3652\n",
       "123       3652\n",
       "160       3652\n",
       "          ... \n",
       "30502      400\n",
       "526355     330\n",
       "81         278\n",
       "1243       226\n",
       "0302       122\n",
       "Name: lau_id, Length: 1633, dtype: int64"
      ]
     },
     "execution_count": 15,
     "metadata": {},
     "output_type": "execute_result"
    }
   ],
   "source": [
    "df.lau_id.value_counts()"
   ]
  },
  {
   "cell_type": "code",
   "execution_count": null,
   "id": "f2dc2785",
   "metadata": {},
   "outputs": [],
   "source": []
  }
 ],
 "metadata": {
  "kernelspec": {
   "display_name": "Python [conda env:anaconda3-climate-crisis-forecast] *",
   "language": "python",
   "name": "conda-env-anaconda3-climate-crisis-forecast-py"
  },
  "language_info": {
   "codemirror_mode": {
    "name": "ipython",
    "version": 3
   },
   "file_extension": ".py",
   "mimetype": "text/x-python",
   "name": "python",
   "nbconvert_exporter": "python",
   "pygments_lexer": "ipython3",
   "version": "3.9.16"
  }
 },
 "nbformat": 4,
 "nbformat_minor": 5
}
